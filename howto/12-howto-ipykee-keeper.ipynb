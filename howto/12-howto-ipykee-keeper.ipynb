{
 "metadata": {
  "name": "",
  "signature": "sha256:c3edcca6dbcb6b9c58f8e79c9d64fb15dcf506a1579195aaadfb0de008176faf"
 },
 "nbformat": 3,
 "nbformat_minor": 0,
 "worksheets": [
  {
   "cells": [
    {
     "cell_type": "code",
     "collapsed": false,
     "input": [
      "import ipykee"
     ],
     "language": "python",
     "metadata": {},
     "outputs": [],
     "prompt_number": 1
    },
    {
     "cell_type": "code",
     "collapsed": false,
     "input": [
      "ipykee.list_projects()"
     ],
     "language": "python",
     "metadata": {},
     "outputs": [
      {
       "metadata": {},
       "output_type": "pyout",
       "prompt_number": 2,
       "text": [
        "['tutorial_remote', 'tutorial']"
       ]
      }
     ],
     "prompt_number": 2
    },
    {
     "cell_type": "code",
     "collapsed": false,
     "input": [
      "keeper = ipykee.Keeper(\"tutorial\")"
     ],
     "language": "python",
     "metadata": {},
     "outputs": [],
     "prompt_number": 3
    },
    {
     "cell_type": "code",
     "collapsed": false,
     "input": [
      "keeper.list_notebooks()"
     ],
     "language": "python",
     "metadata": {},
     "outputs": [
      {
       "metadata": {},
       "output_type": "pyout",
       "prompt_number": 4,
       "text": [
        "['10-howto-ipykee-local']"
       ]
      }
     ],
     "prompt_number": 4
    },
    {
     "cell_type": "code",
     "collapsed": false,
     "input": [
      "session = keeper['10-howto-ipykee-local']"
     ],
     "language": "python",
     "metadata": {},
     "outputs": [],
     "prompt_number": 5
    },
    {
     "cell_type": "code",
     "collapsed": false,
     "input": [
      "session.history()"
     ],
     "language": "python",
     "metadata": {},
     "outputs": [
      {
       "output_type": "stream",
       "stream": "stdout",
       "text": [
        "4545c4ca703dcf2cb198e4beb1ccb3a6b437d83b 10-howto-ipykee-local: Second commit\n",
        "c689be291c8dc97e38dd232ab450004e6c9eccd8 10-howto-ipykee-local: Our first commit!\n",
        "\n"
       ]
      }
     ],
     "prompt_number": 6
    },
    {
     "cell_type": "code",
     "collapsed": false,
     "input": [
      "newest = session.get_variables(\"4545c4ca703dcf2cb19\")"
     ],
     "language": "python",
     "metadata": {},
     "outputs": [],
     "prompt_number": 7
    },
    {
     "cell_type": "code",
     "collapsed": false,
     "input": [
      "oldest = session.get_variables(\"c689be291c8dc9\")"
     ],
     "language": "python",
     "metadata": {},
     "outputs": [],
     "prompt_number": 8
    },
    {
     "cell_type": "code",
     "collapsed": false,
     "input": [
      "print newest.keys()\n",
      "print oldest.keys()"
     ],
     "language": "python",
     "metadata": {},
     "outputs": [
      {
       "output_type": "stream",
       "stream": "stdout",
       "text": [
        "['variable', 'string']\n",
        "['variable', 'dict', 'string']\n"
       ]
      }
     ],
     "prompt_number": 9
    },
    {
     "cell_type": "code",
     "collapsed": false,
     "input": [
      "print \"Newest - \", newest[\"variable\"]\n",
      "print \"Oldest - \", oldest[\"variable\"]"
     ],
     "language": "python",
     "metadata": {},
     "outputs": [
      {
       "output_type": "stream",
       "stream": "stdout",
       "text": [
        "Newest -  160\n",
        "Oldest -  136\n"
       ]
      }
     ],
     "prompt_number": 10
    },
    {
     "cell_type": "code",
     "collapsed": false,
     "input": [
      "print \"Oldest -\", oldest[\"dict\"]"
     ],
     "language": "python",
     "metadata": {},
     "outputs": [
      {
       "output_type": "stream",
       "stream": "stdout",
       "text": [
        "Oldest - {'foo': 123, 'bar': 146}\n"
       ]
      }
     ],
     "prompt_number": 11
    },
    {
     "cell_type": "code",
     "collapsed": false,
     "input": [
      "print \"Newest -\", newest[\"string\"]\n",
      "print \"Oldest -\", oldest[\"string\"]"
     ],
     "language": "python",
     "metadata": {},
     "outputs": [
      {
       "output_type": "stream",
       "stream": "stdout",
       "text": [
        "Newest - bar foo\n",
        "Oldest - foo bar\n"
       ]
      }
     ],
     "prompt_number": 12
    },
    {
     "cell_type": "code",
     "collapsed": false,
     "input": [
      "keeper = ipykee.Keeper(\"tutorial_remote\")"
     ],
     "language": "python",
     "metadata": {},
     "outputs": [],
     "prompt_number": 13
    },
    {
     "cell_type": "code",
     "collapsed": false,
     "input": [
      "keeper.list_notebooks()"
     ],
     "language": "python",
     "metadata": {},
     "outputs": [
      {
       "metadata": {},
       "output_type": "pyout",
       "prompt_number": 14,
       "text": [
        "['ipykee_tutorial_2', '11-howto-ipykee-remote']"
       ]
      }
     ],
     "prompt_number": 14
    },
    {
     "cell_type": "code",
     "collapsed": false,
     "input": [
      "session=keeper['11-howto-ipykee-remote']"
     ],
     "language": "python",
     "metadata": {},
     "outputs": [],
     "prompt_number": 15
    },
    {
     "cell_type": "code",
     "collapsed": false,
     "input": [
      "session.history()"
     ],
     "language": "python",
     "metadata": {},
     "outputs": [
      {
       "output_type": "stream",
       "stream": "stdout",
       "text": [
        "eb3c0d4c8707d5e51546b85c26535caa2cb9abc5 11-howto-ipykee-remote: Second commit\n",
        "660b4226934d1dd04d468a2d0c951720db4b7900 11-howto-ipykee-remote: Our first commit!\n",
        "\n"
       ]
      }
     ],
     "prompt_number": 16
    },
    {
     "cell_type": "code",
     "collapsed": false,
     "input": [
      "keeper.history()"
     ],
     "language": "python",
     "metadata": {},
     "outputs": [
      {
       "output_type": "stream",
       "stream": "stdout",
       "text": [
        "eb3c0d4c8707d5e51546b85c26535caa2cb9abc5 11-howto-ipykee-remote: Second commit\n",
        "660b4226934d1dd04d468a2d0c951720db4b7900 11-howto-ipykee-remote: Our first commit!\n",
        "8cec9c17504456f65aed6121930d1bc689532d99 ipykee_tutorial_2: Second commit\n",
        "d132bf4a61d5388f3b8ceb94479d6c7cafc29998 ipykee_tutorial_2: Our first commit!\n",
        "df3a5dfef8961cf6123066dd754e348d2b1fc3ee ipykee_tutorial_2: Our first commit!\n",
        "8f385b654004065d093e07d0a4b5a64735672107 ipykee_tutorial_2: Second commit\n",
        "ce4bfc52ab42fb6949f36bfebd150d8b24a46a3c ipykee_tutorial_2: Our first commit!\n",
        "5834c619a5c8e62b5c6b8905e91b8a221dd71aa9 ipykee_tutorial_2: Our first commit!\n",
        "a7476d0f94d6d11e42324c0dddbe8aef20b1742e first commit\n",
        "\n"
       ]
      }
     ],
     "prompt_number": 17
    },
    {
     "cell_type": "code",
     "collapsed": false,
     "input": [
      "session.get_code(\"660b4226934d1dd04d468a2d0c951720db4b7900\")"
     ],
     "language": "python",
     "metadata": {},
     "outputs": [],
     "prompt_number": 18
    },
    {
     "cell_type": "code",
     "collapsed": false,
     "input": [
      "session.diff_code(\"eb3c0d4c8707d5e51546b85c26535caa2cb9abc5\", \"660b4226934d1dd04d468a2d0c951720db4b7900\")"
     ],
     "language": "python",
     "metadata": {},
     "outputs": []
    },
    {
     "cell_type": "code",
     "collapsed": false,
     "input": [
      "ipykee.start_diff_server()"
     ],
     "language": "python",
     "metadata": {},
     "outputs": []
    }
   ],
   "metadata": {}
  }
 ]
}