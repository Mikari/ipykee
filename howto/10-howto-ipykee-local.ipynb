{
 "metadata": {
  "name": "",
  "signature": "sha256:1a5e4ad8f557cf6110bbbd2bf95363f11b3f6397abdaaa27c9ce090c51aeae3a"
 },
 "nbformat": 3,
 "nbformat_minor": 0,
 "worksheets": [
  {
   "cells": [
    {
     "cell_type": "code",
     "collapsed": false,
     "input": [
      "variable = 136\n",
      "string_variable = \"foo bar\"\n",
      "dict_variable = {\"foo\": 123, \"bar\": 146}"
     ],
     "language": "python",
     "metadata": {},
     "outputs": [],
     "prompt_number": 1
    },
    {
     "cell_type": "code",
     "collapsed": false,
     "input": [
      "import ipykee\n",
      "ipykee.create_project(project_name=\"tutorial\", internal_path=\"ipykee-storage\")\n",
      "session = ipykee.Session(project_name=\"tutorial\")"
     ],
     "language": "python",
     "metadata": {},
     "outputs": [
      {
       "output_type": "stream",
       "stream": "stdout",
       "text": [
        "Creating local repository\n",
        "Project tutorial has been created"
       ]
      },
      {
       "output_type": "stream",
       "stream": "stdout",
       "text": [
        "\n",
        "This notebook has name 10-howto-ipykee-local\n"
       ]
      }
     ],
     "prompt_number": 2
    },
    {
     "cell_type": "code",
     "collapsed": false,
     "input": [
      "session.add(value=variable, key=\"variable\")\n",
      "session.add(value=string_variable, key=\"string\")\n",
      "session.add(value=dict_variable, key=\"dict\")\n",
      "session.show_added()"
     ],
     "language": "python",
     "metadata": {},
     "outputs": [
      {
       "metadata": {},
       "output_type": "pyout",
       "prompt_number": 3,
       "text": [
        "['variable', 'dict', 'string']"
       ]
      }
     ],
     "prompt_number": 3
    },
    {
     "cell_type": "code",
     "collapsed": false,
     "input": [
      "session.commit(\"Our first commit!\")"
     ],
     "language": "python",
     "metadata": {},
     "outputs": [
      {
       "output_type": "stream",
       "stream": "stdout",
       "text": [
        "Created directory for notebook: 10-howto-ipykee-local\n",
        "Successfuly commited"
       ]
      },
      {
       "output_type": "stream",
       "stream": "stdout",
       "text": [
        "\n",
        "c689be291c8dc97e38dd232ab450004e6c9eccd8 10-howto-ipykee-local: Our first commit!\n"
       ]
      },
      {
       "output_type": "stream",
       "stream": "stdout",
       "text": [
        "\n"
       ]
      }
     ],
     "prompt_number": 4
    },
    {
     "cell_type": "code",
     "collapsed": false,
     "input": [
      "session.show_added()"
     ],
     "language": "python",
     "metadata": {},
     "outputs": [
      {
       "metadata": {},
       "output_type": "pyout",
       "prompt_number": 5,
       "text": [
        "[]"
       ]
      }
     ],
     "prompt_number": 5
    },
    {
     "cell_type": "code",
     "collapsed": false,
     "input": [
      "variable = 160\n",
      "string_variable = \"bar foo\""
     ],
     "language": "python",
     "metadata": {},
     "outputs": [],
     "prompt_number": 6
    },
    {
     "cell_type": "code",
     "collapsed": false,
     "input": [
      "session.add(value=variable, key=\"variable\")\n",
      "session.add(value=string_variable, key=\"string\")"
     ],
     "language": "python",
     "metadata": {},
     "outputs": [],
     "prompt_number": 7
    },
    {
     "cell_type": "code",
     "collapsed": false,
     "input": [
      "session.commit(\"Second commit\")"
     ],
     "language": "python",
     "metadata": {},
     "outputs": [
      {
       "output_type": "stream",
       "stream": "stdout",
       "text": [
        "Successfuly commited\n",
        "4545c4ca703dcf2cb198e4beb1ccb3a6b437d83b 10-howto-ipykee-local: Second commit\n"
       ]
      },
      {
       "output_type": "stream",
       "stream": "stdout",
       "text": [
        "\n"
       ]
      }
     ],
     "prompt_number": 8
    },
    {
     "cell_type": "code",
     "collapsed": false,
     "input": [],
     "language": "python",
     "metadata": {},
     "outputs": []
    }
   ],
   "metadata": {}
  }
 ]
}