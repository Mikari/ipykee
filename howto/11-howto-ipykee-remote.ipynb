{
 "metadata": {
  "name": "",
  "signature": "sha256:f93ea7d35e049a35f9087867ec65be318dbc45971106bd003ab90c4d7afb9a33"
 },
 "nbformat": 3,
 "nbformat_minor": 0,
 "worksheets": [
  {
   "cells": [
    {
     "cell_type": "code",
     "collapsed": false,
     "input": [
      "variable = 136123\n",
      "string_variable = \"foo bar\"\n",
      "dict_variable = {\"foo\": 123, \"bar\": 146}"
     ],
     "language": "python",
     "metadata": {},
     "outputs": [],
     "prompt_number": 1
    },
    {
     "cell_type": "code",
     "collapsed": false,
     "input": [
      "import ipykee\n",
      "ipykee.create_project(\"tutorial_remote\", internal_path=\"ipykee-storage\", repository=\"git@github.com:Mikari/ipykee-test.git\")\n",
      "session = ipykee.Session(project_name=\"tutorial_remote\")"
     ],
     "language": "python",
     "metadata": {},
     "outputs": [
      {
       "output_type": "stream",
       "stream": "stdout",
       "text": [
        "Will connect to remote repository\n",
        "Please add this ssh key:\n",
        "ssh-rsa AAAAB3NzaC1yc2EAAAADAQABAAABAQDdGwH1fHWzMKzA6HZlIR2PvBszCTLotqgiceEn40KXYOPpeWUaP5EFG62SsquYjGhcOCux8zZrtCziHcJ7WV2x96L3McxRYoXRvuy+0lTzGdcAl8mKQlNw/XvwMSGtaoIaFxUF6cYQXrHBmFayCyesZdPNNaOzW+GP/oCcG/lIF5t6TFnmxrX7niWxCnuaNmBhmcX8QGj6OX/DwUBBU48axpypGKV9XwYn+Nq/MLgHGCfPKjr8eVmpSulvp44IfN03zDBDHQNhVrAMBktTGwJRHnT0+pPpYQWBlhq9ePJQN6ApbWJY0z7r85CsalbZNsAnPuGy3Pg3ccmHYSWsmx0d yabs@mikari.bshive.yandex.net\n",
        "\n",
        "Project tutorial_remote has been created\n",
        "This notebook has name 11-howto-ipykee-remote\n"
       ]
      }
     ],
     "prompt_number": 2
    },
    {
     "cell_type": "code",
     "collapsed": false,
     "input": [
      "session.add(value=variable, key=\"variable\")\n",
      "session.add(value=string_variable, key=\"string\")\n",
      "session.add(value=dict_variable, key=\"dict\")\n",
      "session.show_added()"
     ],
     "language": "python",
     "metadata": {},
     "outputs": [
      {
       "metadata": {},
       "output_type": "pyout",
       "prompt_number": 3,
       "text": [
        "['variable', 'dict', 'string']"
       ]
      }
     ],
     "prompt_number": 3
    },
    {
     "cell_type": "code",
     "collapsed": false,
     "input": [
      "session.commit(\"Our first commit!\")"
     ],
     "language": "python",
     "metadata": {},
     "outputs": [
      {
       "output_type": "stream",
       "stream": "stdout",
       "text": [
        "Created directory for notebook: 11-howto-ipykee-remote\n",
        "Successfuly commited"
       ]
      },
      {
       "output_type": "stream",
       "stream": "stdout",
       "text": [
        "\n",
        "660b4226934d1dd04d468a2d0c951720db4b7900 11-howto-ipykee-remote: Our first commit!\n"
       ]
      },
      {
       "output_type": "stream",
       "stream": "stdout",
       "text": [
        "\n"
       ]
      }
     ],
     "prompt_number": 4
    },
    {
     "cell_type": "code",
     "collapsed": false,
     "input": [
      "session.show_added()"
     ],
     "language": "python",
     "metadata": {},
     "outputs": [
      {
       "metadata": {},
       "output_type": "pyout",
       "prompt_number": 5,
       "text": [
        "[]"
       ]
      }
     ],
     "prompt_number": 5
    },
    {
     "cell_type": "code",
     "collapsed": false,
     "input": [
      "variable = 160\n",
      "string_variable = \"bar foo\""
     ],
     "language": "python",
     "metadata": {},
     "outputs": [],
     "prompt_number": 6
    },
    {
     "cell_type": "code",
     "collapsed": false,
     "input": [
      "session.add(value=variable, key=\"variable\")\n",
      "session.add(value=string_variable, key=\"string\")"
     ],
     "language": "python",
     "metadata": {},
     "outputs": [],
     "prompt_number": 7
    },
    {
     "cell_type": "code",
     "collapsed": false,
     "input": [
      "session.commit(\"Second commit\")"
     ],
     "language": "python",
     "metadata": {},
     "outputs": [
      {
       "output_type": "stream",
       "stream": "stdout",
       "text": [
        "Successfuly commited\n",
        "eb3c0d4c8707d5e51546b85c26535caa2cb9abc5 11-howto-ipykee-remote: Second commit\n"
       ]
      },
      {
       "output_type": "stream",
       "stream": "stdout",
       "text": [
        "\n"
       ]
      }
     ],
     "prompt_number": 8
    },
    {
     "cell_type": "code",
     "collapsed": false,
     "input": [],
     "language": "python",
     "metadata": {},
     "outputs": []
    }
   ],
   "metadata": {}
  }
 ]
}